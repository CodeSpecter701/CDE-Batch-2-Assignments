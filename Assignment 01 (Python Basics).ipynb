{
 "cells": [
  {
   "cell_type": "markdown",
   "metadata": {},
   "source": [
    "# Part -1 Python Basics (Variables)"
   ]
  },
  {
   "cell_type": "markdown",
   "metadata": {},
   "source": [
    "1. Print Your Name with your Father name and Date of birth using suitable escape sequence charactor"
   ]
  },
  {
   "cell_type": "code",
   "execution_count": null,
   "metadata": {},
   "outputs": [],
   "source": [
    "print(\"Name: John Doe\\nFather’s Name: James Doe\\nDate of Birth: 12th March 1990\")\n",
    "\n"
   ]
  },
  {
   "cell_type": "markdown",
   "metadata": {},
   "source": [
    "2. Write your small bio using variables and print it using print function"
   ]
  },
  {
   "cell_type": "code",
   "execution_count": null,
   "metadata": {},
   "outputs": [],
   "source": [
    "\n",
    "name = \"John Doe\"\n",
    "father_name = \"James Doe\"\n",
    "dob = \"12th March 1990\"\n",
    "profession = \"Software Developer\"\n",
    "location = \"New York\"\n",
    "hobbies = \"Reading, Traveling, and Coding\"\n",
    "\n",
    "print(\"Name:\", name)\n",
    "print(\"Father's Name:\", father_name)\n",
    "print(\"Date of Birth:\", dob)\n",
    "print(\"Profession:\", profession)\n",
    "print(\"Location:\", location)\n",
    "print(\"Hobbies:\", hobbies)\n"
   ]
  },
  {
   "cell_type": "markdown",
   "metadata": {},
   "source": [
    "3. Write a program in which use all the operators we can use in Python"
   ]
  },
  {
   "cell_type": "code",
   "execution_count": null,
   "metadata": {},
   "outputs": [],
   "source": [
    "\n",
    "\n",
    "\n",
    "\n",
    "\n",
    "The following code demonstrates various types of operators in Python, including arithmetic, comparison, logical, assignment, bitwise, membership, and identity operators.\n",
    "\n",
    "a = 10\n",
    "b = 5\n",
    "print(\"Arithmetic Operators:\")\n",
    "print(f\"a + b = {a + b}\")  \n",
    "print(f\"a - b = {a - b}\") \n",
    "print(f\"a * b = {a * b}\") \n",
    "print(f\"a / b = {a / b}\") \n",
    "print(f\"a // b = {a // b}\")  \n",
    "print(f\"a % b = {a % b}\")  \n",
    "print(f\"a ** b = {a ** b}\")  \n",
    "\n",
    "\n",
    "print(\"\\nComparison Operators:\")\n",
    "print(f\"a== b: {a == b}\")  \n",
    "print(f\"a != b: {a != b}\")  \n",
    "print(f\"a > b: {a > b}\")  \n",
    "print(f\"a < b: {a < b}\")  \n",
    "print(f\"a >= b: {a >= b}\")  \n",
    "print(f\"a <= b: {a <= b}\")\n",
    "\n",
    "x = True\n",
    "y = False\n",
    "print(\"\\nLogical Operators:\")\n",
    "print(f\"x and y: {x and y}\") \n",
    "print(f\"x or y: {x or y}\")  \n",
    "print(f\"not x: {not x}\")  \n",
    "\n",
    "c = 10\n",
    "print(\"\\nAssignment Operators:\")\n",
    "c += 5  \n",
    "print(f\"c += 5 -> c = {c}\")\n",
    "c -= 3 \n",
    "print(f\"c -= 3 -> c = {c}\")\n",
    "c *= 2  \n",
    "print(f\"c *= 2 -> c = {c}\")\n",
    "c /= 4 \n",
    "print(f\"c /= 4 -> c = {c}\")\n",
    "c %= 3  \n",
    "print(f\"c %= 3 -> c = {c}\")\n",
    "c //= 2 \n",
    "print(f\"c // here\")"
   ]
  },
  {
   "cell_type": "markdown",
   "metadata": {},
   "source": [
    "4. Completes the following steps of small task:\n",
    "    - Mention Marks of English , Islamiat and Maths out of 100 in 3 different variables\n",
    "    - Mention Variable of Total Marks and assign 300 to it\n",
    "    - Calculate Percentage"
   ]
  },
  {
   "cell_type": "code",
   "execution_count": null,
   "metadata": {},
   "outputs": [],
   "source": [
    "english_marks = 80\n",
    "islamiat_marks = 90\n",
    "maths_marks = 85\n",
    "\n",
    "total_marks = 300\n",
    "\n",
    "total_obtained_marks = english_marks + islamiat_marks + maths_marks\n",
    "percentage = (total_obtained_marks / total_marks) * 100\n",
    "\n",
    "print(f\"Total Marks: {total_marks}\")\n",
    "print(f\"Marks Obtained: {total_obtained_marks}\")\n",
    "print(f\"Percentage: {percentage}%\")\n"
   ]
  },
  {
   "cell_type": "markdown",
   "metadata": {},
   "source": []
  },
  {
   "cell_type": "markdown",
   "metadata": {},
   "source": [
    "# Part -2 Python Basics (Conditional Statements)"
   ]
  },
  {
   "cell_type": "markdown",
   "metadata": {},
   "source": [
    "1) A company decided to give bonus of 5% to employee if his/her year of service is more than 5 years.\n",
    "Ask user for their salary and year of service and print the net bonus amount."
   ]
  },
  {
   "cell_type": "code",
   "execution_count": null,
   "metadata": {},
   "outputs": [],
   "source": [
    "\n",
    "salary = float(input(\"Enter your salary: \"))\n",
    "years_of_service = int(input(\"Enter your years of service: \"))\n",
    "\n",
    "\n",
    "if years_of_service > 5:\n",
    "    bonus = salary * 0.05  \n",
    "    print(f\"Your bonus is: {bonus}\")\n",
    "else:\n",
    "    print(\"You are not eligible for a bonus.\")\n"
   ]
  },
  {
   "cell_type": "markdown",
   "metadata": {},
   "source": [
    "\n",
    "2) Write a program to check whether a person is eligible for voting or not. (accept age from user) if age is greater than 17 eligible otherwise not eligible"
   ]
  },
  {
   "cell_type": "code",
   "execution_count": null,
   "metadata": {},
   "outputs": [],
   "source": [
    "\n",
    "age = int(input(\"Enter your age: \"))\n",
    "\n",
    "\n",
    "if age >= 18:\n",
    "    print(\"You are eligible to vote.\")\n",
    "else:\n",
    "    print(\"You are not eligible to vote.\")\n",
    "\n"
   ]
  },
  {
   "cell_type": "markdown",
   "metadata": {},
   "source": [
    "\n",
    "3) Write a program to check whether a number entered by user is even or odd."
   ]
  },
  {
   "cell_type": "code",
   "execution_count": null,
   "metadata": {},
   "outputs": [],
   "source": [
    "\n",
    "number = int(input(\"Enter a number: \"))\n",
    "\n",
    "\n",
    "if number % 2 == 0:\n",
    "    print(\"The number is even.\")\n",
    "else:\n",
    "    print(\"The number is odd.\")\n"
   ]
  },
  {
   "cell_type": "markdown",
   "metadata": {},
   "source": [
    "4) Write a program to check whether a number is divisible by 7 or not.\n",
    "Show Answer"
   ]
  },
  {
   "cell_type": "code",
   "execution_count": null,
   "metadata": {},
   "outputs": [],
   "source": [
    "\n",
    "number = int(input(\"Enter a number: \"))\n",
    "\n",
    "\n",
    "if number % 7 == 0:\n",
    "    print(\"The number is divisible by 7.\")\n",
    "else:\n",
    "    print(\"The number is not divisible by 7.\")\n"
   ]
  },
  {
   "cell_type": "markdown",
   "metadata": {},
   "source": [
    "5) Write a program to display \n",
    "\"Hello\" if a number entered by user is a multiple of five , otherwise print \"Bye\"."
   ]
  },
  {
   "cell_type": "code",
   "execution_count": null,
   "metadata": {},
   "outputs": [],
   "source": [
    "\n",
    "number = int(input(\"Enter a number: \"))\n",
    "\n",
    "\n",
    "if number % 5 == 0:\n",
    "    print(\"Hello\")\n",
    "else:\n",
    "    print(\"Bye\")\n"
   ]
  },
  {
   "cell_type": "markdown",
   "metadata": {},
   "source": [
    "7) Write a program to display the last digit of a number.\n"
   ]
  },
  {
   "cell_type": "code",
   "execution_count": null,
   "metadata": {},
   "outputs": [],
   "source": [
    "\n",
    "number = int(input(\"Enter a number: \"))\n",
    "\n",
    "last_digit = number % 10\n",
    "\n",
    "print(\"The last digit of the number is:\", last_digit)\n"
   ]
  },
  {
   "cell_type": "markdown",
   "metadata": {},
   "source": [
    "9) Take values of length and breadth of a rectangle from user and print if it is square or rectangle."
   ]
  },
  {
   "cell_type": "code",
   "execution_count": null,
   "metadata": {},
   "outputs": [],
   "source": [
    "length = float(input(\"Enter the length of the rectangle:\"))\n",
    "breadth = float(input(\"Enter the breadth of the rectangle:\"))\n",
    "\n",
    "if length == breadth:\n",
    "    print(\"It is a square.\")\n",
    "else:\n",
    "    print(\"It is a rectangle.\")\n",
    " here "
   ]
  },
  {
   "cell_type": "markdown",
   "metadata": {},
   "source": [
    "10) Take two int values from user and print greatest among them."
   ]
  },
  {
   "cell_type": "code",
   "execution_count": null,
   "metadata": {},
   "outputs": [],
   "source": [
    "\n",
    "num1 = int(input(\"Enter the first number: \"))\n",
    "num2 = int(input(\"Enter the second number: \"))\n",
    "\n",
    "\n",
    "if num1 > num2:\n",
    "    print(f\"The greatest number is: {num1}\")\n",
    "elif num2 > num1:\n",
    "    print(f\"The greatest number is: {num2}\")\n",
    "else:\n",
    "    print(\"Both numbers are equal.\")\n"
   ]
  },
  {
   "cell_type": "markdown",
   "metadata": {},
   "source": [
    "11) A shop will give discount of 10% if the cost of purchased quantity is more than 1000.\n",
    "Ask user for quantity\n",
    "Suppose, one unit will cost 100.\n",
    "Judge and print total cost for user."
   ]
  },
  {
   "cell_type": "code",
   "execution_count": null,
   "metadata": {},
   "outputs": [],
   "source": [
    "\n",
    "quantity = int(input(\"Input the number of items bought: \"))\n",
    "\n",
    "\n",
    "cost_per_unit = 100\n",
    "\n",
    "\n",
    "total_cost = quantity * cost_per_unit\n",
    "\n",
    "if total_cost > 1000:\n",
    "    discount = total_cost * 0.10 \n",
    "    total_cost -= discount  \n",
    "print(\"Discount applied! Total cost after discount: {}\".format(total_cost))\n",
    "else:\n",
    "    print(\"No discount applied. Total cost: {}\".format(total_cost))\n"
   ]
  },
  {
   "cell_type": "markdown",
   "metadata": {},
   "source": [
    "12) A school has following rules for grading system:\n",
    "\n",
    "a. Below 25 - F\n",
    "\n",
    "b. 25 to 45 - E\n",
    "\n",
    "c. 45 to 50 - D\n",
    "\n",
    "d. 50 to 60 - C\n",
    "\n",
    "e. 60 to 80 - B\n",
    "\n",
    "f. Above 80 - A\n",
    "\n",
    "Ask user to enter marks and print the corresponding grade."
   ]
  },
  {
   "cell_type": "code",
   "execution_count": null,
   "metadata": {},
   "outputs": [],
   "source": [
    "marks = float(input(\"Enter your marks: \"))\n",
    "\n",
    "if marks < 25:\n",
    "    print(\"Grade: F\")\n",
    "elif 25 <= marks < 45:\n",
    "    print(\"Grade: E\")\n",
    "elif 45 <= marks < 50:\n",
    "    print(\"Grade: D\")\n",
    "elif 50 <= marks < 60:\n",
    "    print(\"Grade: C\")\n",
    "elif 60 <= marks < 80:\n",
    "    print(\"Grade: B\")\n",
    "else:\n",
    "  \n",
    "    print(\"Grade: A\")\n"
   ]
  },
  {
   "cell_type": "markdown",
   "metadata": {},
   "source": [
    "14)A student will not be allowed to sit in exam if his/her attendence is less than 75%.\n",
    "\n",
    "Take following input from user\n",
    "\n",
    "- Number of classes held\n",
    "\n",
    "- Number of classes attended.\n",
    "\n",
    "And print\n",
    "\n",
    "- percentage of class attended\n",
    "\n",
    "- Is student is allowed to sit in exam or not.\n"
   ]
  },
  {
   "cell_type": "code",
   "execution_count": null,
   "metadata": {},
   "outputs": [],
   "source": [
    "classes_held = int(input(\"Enter the number of classes held: \"))\n",
    "classes_attended = int(input(\"Enter the number of classes attended: \"))\n",
    "\n",
    "attendance_percentage = (classes_attended / classes_held) * 100\n",
    "\n",
    "print(f\"Percentage of classes attended: {attendance_percentage}%\")\n",
    "\n",
    "if attendance_percentage >= 75:\n",
    "print(\"The student is allowed to sit in the exam.\")\n",
    "else:\n",
    "    print(\"The student is not allowed to sit in the exam.\")\n"
   ]
  },
  {
   "cell_type": "markdown",
   "metadata": {},
   "source": [
    "15) Modify the above question to allow student to sit if he/she has medical cause. Ask user if he/she has medical cause or not ( 'Y' or 'N' ) and print accordingly."
   ]
  },
  {
   "cell_type": "code",
   "execution_count": null,
   "metadata": {},
   "outputs": [],
   "source": [
    "classes_held = int(input(\"Enter the number of classes held: \"))\n",
    "classes_attended = int(input(\"Enter the number of classes attended: \"))\n",
    "\n",
    "attendance_percentage = (classes_attended / classes_held) * 100\n",
    "\n",
    "medical_cause = input(\"Do you have a medical cause? (Y/N): \").upper()\n",
    "\n",
    "print(f\"Attendance percentage: {attendance_percentage}%\")\n",
    "\n",
    "if attendance_percentage >= 75 or medical_cause == 'Y':\n",
    "    print(\"The student is eligible to sit in the exam.\")\n",
    "else:\n",
    "    print(\"The student is not eligible to sit in the exam.\")\n"
   ]
  },
  {
   "cell_type": "markdown",
   "metadata": {},
   "source": [
    "16) Write a program to check if a year is leap year or not.\n",
    "\n",
    "If a year is divisible by 4 then it is leap year but if the year is century year like 2000, 1900, 2100 then it must be divisible by 400."
   ]
  },
  {
   "cell_type": "code",
   "execution_count": null,
   "metadata": {},
   "outputs": [],
   "source": [
    "classes_held = int(input(\"Enter the number of classes held: \"))\n",
    "classes_attended = int(input(\"Enter the number of classes attended: \"))\n",
    "\n",
    "attendance_percentage = (classes_attended / classes_held) * 100\n",
    "\n",
    "medical_cause = input(\"Do you have a medical cause? (Y/N): \").upper()\n",
    "\n",
    "print(f\"Attendance percentage: {attendance_percentage}%\")\n",
    "\n",
    "if attendance_percentage >= 75 or medical_cause == 'Y':\n",
    "    print(\"The student is eligible to sit in the exam.\")\n",
    "else:\n",
    "    print(\"The student is not eligible to sit in the exam.\")\n"
   ]
  },
  {
   "cell_type": "markdown",
   "metadata": {},
   "source": [
    "17) Ask user to enter age, gender ( M or F ), marital status ( Y or N ) and then using following rules print their place of service.\n",
    "\n",
    "if employee is female, then she will work only in urban areas.\n",
    "\n",
    "if employee is a male and age is in between 20 to 40 then he may work in anywhere\n",
    "\n",
    "if employee is male and age is in between 40 t0 60 then he will work in urban areas only.\n",
    "\n",
    "And any other input of age should print \"ERROR\""
   ]
  },
  {
   "cell_type": "code",
   "execution_count": null,
   "metadata": {},
   "outputs": [],
   "source": [
    "age = int(input(\"Enter your age: \"))\n",
    "gender = input(\"Enter your gender (M/F): \").upper()\n",
    "marital_status = input(\"Enter your marital status (Y/N): \").upper()\n",
    "\n",
    "if gender == 'F':\n",
    "    print(\"The female employee will work in urban areas only.\")\n",
    "elif gender == 'M':\n",
    "    if 20 <= age <= 40:\n",
    "print(\"The male employee may work anywhere.\")\n",
    "    elif 40 < age <= 60:\n",
    "        print(\"The male employee will work in urban areas only.\")\n",
    "    else:\n",
    "        print(\"ERROR\")\n",
    "else:\n",
    "    print(\"ERROR\")\n"
   ]
  },
  {
   "cell_type": "markdown",
   "metadata": {},
   "source": [
    "6) Write a program to calculate the electricity bill (accept number of unit from user) according to the following criteria :\n",
    "     Unit                                                     Price  \n",
    "uptp 100 units                                             no charge\n",
    "Next 200 units                                              Rs 5 per unit\n",
    "After 200 units                                             Rs 10 per unit\n",
    "(For example if input unit is 350 than total bill amount is Rs.3500\n",
    "(For example if input unit is 97 than total bill amount is Rs.0\n",
    "(For example if input unit is 150 than total bill amount is Rs.750"
   ]
  },
  {
   "cell_type": "markdown",
   "metadata": {},
   "source": [
    "13) Take input of age of 3 people by user and determine oldest and youngest among them."
   ]
  },
  {
   "cell_type": "code",
   "execution_count": null,
   "metadata": {},
   "outputs": [],
   "source": [
    "units = int(input(\"Enter the number of units used: \"))\n",
    "bill = 0\n",
    "if units <= 100:\n",
    "    bill = 0  \n",
    "elif 101 <= units <= 300:\n",
    "bill = (units - 100) * 5\n",
    "else:\n",
    "    bill = (200 * 5) + ((units - 300) * 10) \n",
    "print(f\"The total electricity bill is Rs. {bill}\")\n"
   ]
  }
 ],
 "metadata": {
  "kernelspec": {
   "display_name": "Python 3 (ipykernel)",
   "language": "python",
   "name": "python3"
  },
  "language_info": {
   "codemirror_mode": {
    "name": "ipython",
    "version": 3
   },
   "file_extension": ".py",
   "mimetype": "text/x-python",
   "name": "python",
   "nbconvert_exporter": "python",
   "pygments_lexer": "ipython3",
   "version": "3.12.7"
  }
 },
 "nbformat": 4,
 "nbformat_minor": 4
}
